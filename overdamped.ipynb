{
 "cells": [
  {
   "cell_type": "code",
   "execution_count": null,
   "id": "6dcf6e38",
   "metadata": {},
   "outputs": [],
   "source": [
    "import matplotlib.pyplot as plt\n",
    "import numpy as np\n",
    "from scipy import integrate\n",
    "import sympy as sp\n",
    "import time"
   ]
  },
  {
   "cell_type": "code",
   "execution_count": 2,
   "id": "56a17b26",
   "metadata": {},
   "outputs": [],
   "source": [
    "# Definition of the potential\n",
    "\n",
    "# Parameters of the potential\n",
    "a = 0.02\n",
    "x_min = 10 # Position of the second minimum, with U(x_min)=(a*x_min**3*c**2)/(x_min+2*c),\n",
    "          # the first minimum is in x=0, with f(0)=0  \n",
    "c = 5\n",
    "\n",
    "def potential (x, a=a, x_min=x_min, c=c):\n",
    "    U = a*(x-x_min)**2*(x-c)*(x+(x_min*c)/(x_min+2*c)) + (a*x_min**3*c**2)/(x_min+2*c)\n",
    "    return U"
   ]
  },
  {
   "cell_type": "code",
   "execution_count": 3,
   "id": "593081a5",
   "metadata": {},
   "outputs": [],
   "source": [
    "# Definition of the pulling force seen as the gradient of an armonic potential of the form: \n",
    "# F = (k/2)*(x-x_0)**2, where 'k' is the analogous of the elastic constant, and x_0 is the position of the minimum\n",
    "\n",
    "k=10\n",
    "x_center=0\n",
    "def external_force(x, x_center, k=k):\n",
    "    return -k*(x-x_center)\n"
   ]
  },
  {
   "cell_type": "code",
   "execution_count": 4,
   "id": "55f9663f",
   "metadata": {},
   "outputs": [],
   "source": [
    "# Parameters\n",
    "n_tries = 150\n",
    "x_center = 0\n",
    "total_time = 100\n",
    "dt = 0.005\n",
    "v_external_force = x_min/total_time\n",
    "n_steps= round(total_time/dt)\n",
    "gamma= 1 # friction coefficient \n",
    "kbT=1\n",
    "D = kbT/gamma\n",
    "\n",
    "std = 1/np.sqrt(2*((a*x_min)/(x_min+2*c)*(3*c**2+x_min**2+2*x_min*c)+k/2)/kbT) \n"
   ]
  },
  {
   "cell_type": "code",
   "execution_count": 5,
   "id": "a4bad790",
   "metadata": {},
   "outputs": [],
   "source": [
    "# Definition of the initial probability function (Boltzmann distribution)\n",
    "\n",
    "def eq_distribution_in(x):\n",
    "    p = np.exp((-potential(x)-(k/2)*(x-x_center)**2)/kbT)\n",
    "    return p\n",
    "\n",
    "# Second order approximation (gaussian)\n",
    "def approx_in(x):\n",
    "    p = np.exp((-((a*x_min)/(x_min+2*c)*(3*c**2+x_min**2+2*x_min*c)+k/2)*x**2)/kbT)\n",
    "    return p\n",
    "std = 1/np.sqrt(2*((a*x_min)/(x_min+2*c)*(3*c**2+x_min**2+2*x_min*c)+k/2)/kbT) # standard deviation of the initial distribution\n"
   ]
  },
  {
   "cell_type": "code",
   "execution_count": 6,
   "id": "ab832e5c",
   "metadata": {},
   "outputs": [],
   "source": [
    "# Definition of the final probability function (Boltzmann distribution)\n",
    "\n",
    "def eq_distribution_fin(x):\n",
    "    p = np.exp((-potential(x)-(k/2)*(x-x_min)**2)/kbT)\n",
    "    return p\n",
    "\n",
    "# Second order approximation (gaussian)\n",
    "def approx_fin(x):\n",
    "    p = np.exp((-(a*(x_min-c)*(x_min+ (x_min*c)/(x_min+2*c)) + k/2)*(x-x_min)**2 - (a*x_min**3*c**2)/(x_min+2*c))/kbT)\n",
    "    return p\n",
    "std_fin = 1/np.sqrt(2*((a*x_min)/(x_min+2*c)*(3*c**2+x_min**2+2*x_min*c)+k/2)/kbT)  # standard deviation of the final distribution\n"
   ]
  },
  {
   "cell_type": "code",
   "execution_count": 7,
   "id": "6037e5c8",
   "metadata": {},
   "outputs": [],
   "source": [
    "# Plot\n",
    "\n",
    "fig, ax = plt.subplots()\n",
    "\n",
    "x = np.linspace(-0.2*x_min, 1.2*x_min, 500)  \n",
    "x_force = np.linspace(x_center-2, x_center+2, 100)\n",
    "x_final = np.linspace(x_min-2, x_min+2, 100)\n",
    "\n",
    "line, = ax.plot(x_force, k/2*(x_force-x_center)**2)\n",
    "\n",
    "integral_in, _ = integrate.quad(eq_distribution_in , -5, 5)\n",
    "int_approx_in, _ = integrate.quad(approx_in , -5, 5)\n",
    "free_energy_in = - kbT * np.log(int_approx_in)\n",
    "\n",
    "integral_fin, _ = integrate.quad(eq_distribution_fin , -5+x_min, 5+x_min)\n",
    "int_approx_fin, _ = integrate.quad(approx_fin , -5+ x_min, 5+ x_min)\n",
    "free_energy_fin = - kbT * np.log(integral_fin)\n",
    "\n",
    "plt.plot(x, potential(x), label='potential')\n",
    "plt.plot(x_force,  5*eq_distribution_in(x_force)/integral_in, label=' initial distribution') # it's multiplied to be able to see it\n",
    "#plt.plot(x_force, 5*approx_in(x_force)/int_approx_in, label='second order approximation initial')\n",
    "plt.plot(x_force,  5*approx_in(x_force)/np.max(approx_in(x_force)), label='second order approximation initial')\n",
    "plt.plot(x_force,k/2*(x_force-x_center)**2, label='external force')\n",
    "plt.plot(x_final,  5*eq_distribution_fin(x_final)/integral_fin, label=' final distribution') # it's multiplied to be able to see it\n",
    "#plt.plot(x_final,  5*approx_fin(x_final)/int_approx_fin, label='second order approximation final')\n",
    "plt.plot(x_final,  5*approx_fin(x_final)/np.max(approx_fin(x_final)), label='second order approximation final')\n",
    "\n",
    "plt.legend()\n",
    "\n",
    "plt.show()\n",
    "print(free_energy_in, free_energy_fin)\n",
    "\n"
   ]
  },
  {
   "cell_type": "code",
   "execution_count": 8,
   "id": "50067df7",
   "metadata": {},
   "outputs": [],
   "source": [
    "# Variation of free energy\n",
    "d_free_energy = free_energy_fin - free_energy_in\n",
    "print(d_free_energy)"
   ]
  },
  {
   "cell_type": "code",
   "execution_count": 9,
   "id": "73fda467",
   "metadata": {},
   "outputs": [],
   "source": [
    "# Total F_ext (calculated with symbolic derivative):\n",
    "x_ = sp.symbols('x_')\n",
    "pot = a*(x_-x_min)**2*(x_-c)*(x_+(x_min*c)/(x_min+2*c)) + (a*x_min**3*c**2)/(x_min+2*c)\n",
    "# Symbolic derivative\n",
    "derivative = sp.diff(pot, x_)\n",
    "\n",
    "def F_tot(x,x_center):\n",
    "    F = external_force(x, x_center) - derivative.subs(x_,x)\n",
    "    return F"
   ]
  },
  {
   "cell_type": "code",
   "execution_count": 10,
   "id": "39b56b54",
   "metadata": {},
   "outputs": [],
   "source": [
    "# Define the iteration process \n",
    "def iteration (x_in, x_center, v_external_force=v_external_force, gamma=gamma, kbT=kbT, dt=dt):\n",
    "    rand = np.random.normal()\n",
    "    \n",
    "    # Explicit Euler\n",
    "    #x_new = x_in + F_tot(x_in, x_center)/gamma * dt + np.sqrt(2*D*dt)*rand\n",
    "\n",
    "    # Runge-kutta               \n",
    "    k1x = F_tot(x_in, x_center) / gamma * dt + np.sqrt(2 * D * dt) * rand\n",
    "    k2x = F_tot(x_in + k1x / 2, x_center + v_external_force*dt/2) / gamma * dt + np.sqrt(2 * D * dt) * rand\n",
    "    k3x = F_tot(x_in + k2x / 2, x_center + v_external_force*dt/2) / gamma * dt + np.sqrt(2 * D * dt) * rand\n",
    "    k4x = F_tot(x_in + k3x, x_center) / gamma * dt + np.sqrt(2 * D * dt) * rand \n",
    "\n",
    "    x_new = x_in + (k1x + 2 * k2x + 2 * k3x + k4x) / 6 \n",
    "    \n",
    "   \n",
    "    return x_new\n"
   ]
  },
  {
   "cell_type": "code",
   "execution_count": 11,
   "id": "80308a39",
   "metadata": {},
   "outputs": [],
   "source": [
    "# Calculation of trajectory\n",
    "\n",
    "# Inizialization\n",
    "w = np.zeros(n_tries) # collects the work done\n",
    "x_in = np.zeros(n_tries) # collects teh initial positions\n",
    "x_fin = np.zeros(n_tries) # collects the final positions\n",
    "x_center=0\n",
    "x_sim = np.zeros(n_steps+1)\n",
    "\n",
    "# Total F_ext (calculated with symbolic derivative):\n",
    "x_ = sp.symbols('x_')\n",
    "pot = a*(x_-x_min)**2*(x_-c)*(x_+(x_min*c)/(x_min+2*c)) + (a*x_min**3*c**2)/(x_min+2*c)\n",
    "# Symbolic derivative\n",
    "derivative = sp.diff(pot, x_)\n",
    "# Integration\n",
    "start_time = time.time()\n",
    "for j in range(n_tries):\n",
    "    \n",
    "    x_sim[0] = np.random.normal(0,std)\n",
    "    x_center = 0\n",
    "    \n",
    "    for i in range(1, n_steps+1):\n",
    "        \n",
    "        x_sim[i] = iteration(x_sim[i-1], x_center)\n",
    "                                                         \n",
    "        w[j] += external_force((x_sim[i-1]+x_sim[i])/2,x_center +v_external_force * dt/2)*(x_sim[i]-x_sim[i-1])\n",
    "\n",
    "        x_center += v_external_force*dt\n",
    "        \n",
    "\n",
    " \n",
    "    x_fin[j]=x_sim[-1]\n",
    "    x_in[j]=x_sim[0]\n",
    "    \n",
    "end_time = time.time()\n",
    "execution_time = end_time - start_time\n",
    "\n",
    "\n",
    "print(f\"Tempo totale di esecuzione: {execution_time} secondi\")\n"
   ]
  },
  {
   "cell_type": "code",
   "execution_count": 12,
   "id": "d94a8574",
   "metadata": {},
   "outputs": [],
   "source": [
    "# Checks if for any reason some of the works are not_a_number\n",
    "invalid_indexes=np.where(np.isnan(w))\n",
    "w = np.delete(w,invalid_indexes)\n",
    "x_fin = np.delete(x_fin,invalid_indexes)\n",
    "x_in = np.delete (x_in,invalid_indexes)\n",
    "print(len(invalid_indexes[0]), \"tries have been deleted\")"
   ]
  },
  {
   "cell_type": "code",
   "execution_count": 13,
   "id": "fbf817d9",
   "metadata": {},
   "outputs": [],
   "source": [
    "# Computing the exponential of the work\n",
    "exp_w = np.exp(- w / kbT) "
   ]
  },
  {
   "cell_type": "code",
   "execution_count": 14,
   "id": "c00c5f98",
   "metadata": {},
   "outputs": [],
   "source": [
    "# Visualizing the dynamics of the last try\n",
    "tim_ = np.linspace(0,total_time , x_sim.size)\n",
    "fig, axs = plt.subplots(1, 2, figsize=(10, 5))\n",
    "\n",
    "\n",
    "axs[0].plot(tim_, x_sim, 'g')\n",
    "axs[0].set_xlabel('Time')\n",
    "axs[0].set_ylabel('Position')\n",
    "axs[0].set_title(' Langevin Simulation')\n",
    "\n",
    "x_plot=x_sim[::int(len(x_sim)/50)] # plots only 50 points\n",
    "axs[1].plot(x_plot,potential(x_plot), 'ro', label='Simulation')\n",
    "axs[1].plot(x, potential(x), label='Potential')\n",
    "axs[1].set_xlabel('Position')\n",
    "axs[1].set_ylabel('Potential')\n",
    "axs[1].set_title(' Langevin Simulation')"
   ]
  },
  {
   "cell_type": "code",
   "execution_count": 15,
   "id": "f9e5563f",
   "metadata": {},
   "outputs": [],
   "source": [
    "# Visualizing the distribution of work and its exponential\n",
    "fig, axs = plt.subplots(1, 2, figsize=(10, 5))\n",
    "\n",
    "\n",
    "axs[0].hist(w, bins=round(np.sqrt(w.size)), alpha=0.4, color='blue', label='work', density=True)\n",
    "axs[0].set_xlabel('work')\n",
    "axs[0].set_ylabel('relative frequency')\n",
    "axs[0].set_title(' distribution of work')\n",
    "\n",
    "\n",
    "axs[1].hist(exp_w, bins=round(np.sqrt(w.size)), alpha=0.4, color='red', label='exponential of work', density=False)\n",
    "axs[1].set_xlabel('exponential of work')\n",
    "axs[1].set_ylabel('relative frequency')\n",
    "axs[1].set_title(' distribution of exponential of work')\n",
    "\n",
    "plt.show()"
   ]
  },
  {
   "cell_type": "code",
   "execution_count": 16,
   "id": "98d2a9a5",
   "metadata": {},
   "outputs": [],
   "source": [
    "# Printing the results\n",
    "print('The first factor of the Jarzynski Relation is: ', np.mean(exp_w))\n",
    "print('The second factor of the Jarzynski Relation is: ', np.exp(-d_free_energy/kbT))\n",
    "print('The difference between the two terms is: ', np.abs(np.mean(exp_w)-np.exp(-d_free_energy/kbT)))"
   ]
  },
  {
   "cell_type": "code",
   "execution_count": 18,
   "id": "6e011c90",
   "metadata": {},
   "outputs": [],
   "source": [
    "# Saving the data\n",
    "def write_vectors_to_file(file_path, vectors):\n",
    "    with open(file_path, 'w') as file:\n",
    "        file.write('x_in'+'\\t'+' x_fin'+' \\t'+' w' + '\\n')\n",
    "        for i in range(len(vectors[0])):\n",
    "            column_values = [vector[i] for vector in vectors]\n",
    "\n",
    "            column_str = ' '.join(map(str, column_values))\n",
    "            \n",
    "            file.write(column_str + '\\n')\n",
    "\n",
    "\n",
    "vectors = [x_in, x_fin, w]\n",
    "\n",
    "file_path = 'results_integration.txt'\n",
    "write_vectors_to_file(file_path, vectors)"
   ]
  }
 ],
 "metadata": {
  "kernelspec": {
   "display_name": "Python 3 (ipykernel)",
   "language": "python",
   "name": "python3"
  },
  "language_info": {
   "codemirror_mode": {
    "name": "ipython",
    "version": 3
   },
   "file_extension": ".py",
   "mimetype": "text/x-python",
   "name": "python",
   "nbconvert_exporter": "python",
   "pygments_lexer": "ipython3",
   "version": "3.10.9"
  }
 },
 "nbformat": 4,
 "nbformat_minor": 5
}
